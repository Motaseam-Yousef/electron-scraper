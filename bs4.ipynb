{
  "nbformat": 4,
  "nbformat_minor": 0,
  "metadata": {
    "colab": {
      "provenance": []
    },
    "kernelspec": {
      "name": "python3",
      "display_name": "Python 3"
    },
    "language_info": {
      "name": "python"
    }
  },
  "cells": [
    {
      "cell_type": "code",
      "execution_count": null,
      "metadata": {
        "colab": {
          "base_uri": "https://localhost:8080/"
        },
        "id": "HOd0dX-3frdH",
        "outputId": "15a2b8ba-5633-438a-a21e-513b04c296c8"
      },
      "outputs": [
        {
          "output_type": "stream",
          "name": "stdout",
          "text": [
            "Requirement already satisfied: beautifulsoup4 in /usr/local/lib/python3.10/dist-packages (4.11.2)\n",
            "Requirement already satisfied: requests in /usr/local/lib/python3.10/dist-packages (2.27.1)\n",
            "Requirement already satisfied: soupsieve>1.2 in /usr/local/lib/python3.10/dist-packages (from beautifulsoup4) (2.4.1)\n",
            "Requirement already satisfied: urllib3<1.27,>=1.21.1 in /usr/local/lib/python3.10/dist-packages (from requests) (1.26.16)\n",
            "Requirement already satisfied: certifi>=2017.4.17 in /usr/local/lib/python3.10/dist-packages (from requests) (2023.5.7)\n",
            "Requirement already satisfied: charset-normalizer~=2.0.0 in /usr/local/lib/python3.10/dist-packages (from requests) (2.0.12)\n",
            "Requirement already satisfied: idna<4,>=2.5 in /usr/local/lib/python3.10/dist-packages (from requests) (3.4)\n"
          ]
        }
      ],
      "source": [
        "!pip install beautifulsoup4 requests\n"
      ]
    },
    {
      "cell_type": "code",
      "source": [
        "import requests\n",
        "from bs4 import BeautifulSoup\n"
      ],
      "metadata": {
        "id": "NBO1rYAKftAj"
      },
      "execution_count": null,
      "outputs": []
    },
    {
      "cell_type": "code",
      "source": [
        "# Make a request to the website\n",
        "url = 'https://smartbuy-me.com/smartbuystore/ar/التصنيفات/منتجات-ابل/ايفون/iPhone-13/c/50406'\n",
        "response = requests.get(url)\n",
        "\n",
        "# Parse the HTML content\n",
        "soup = BeautifulSoup(response.content, 'html.parser')\n"
      ],
      "metadata": {
        "id": "E1wL2hlsl9GI"
      },
      "execution_count": null,
      "outputs": []
    },
    {
      "cell_type": "code",
      "source": [
        "# Find all of the <div> tags with class 'price' on the page\n",
        "price_divs = soup.find_all('div', {'class': 'price'})\n",
        "\n",
        "# Print the text from each <div> tag\n",
        "for div in price_divs:\n",
        "    print(div.get_text())"
      ],
      "metadata": {
        "colab": {
          "base_uri": "https://localhost:8080/"
        },
        "id": "PYWJzPNhmBCS",
        "outputId": "e9bd29f0-094a-46ea-c9e4-bc34c8f4fdb3"
      },
      "execution_count": null,
      "outputs": [
        {
          "output_type": "stream",
          "name": "stdout",
          "text": [
            "\t1,399 دينار\n",
            "\t999 دينار\n",
            "\t755 دينار\n",
            "\t755 دينار\n",
            "\t1,199 دينار\n",
            "\t1,055 دينار\n",
            "\t1,055 دينار\n",
            "\t1,055 دينار\n",
            "\t1,029 دينار\n",
            "\t669 دينار\n",
            "\t1,029 دينار\n",
            "\t755 دينار\n",
            "\t855 دينار\n",
            "\t1,029 دينار\n",
            "\t755 دينار\n",
            "\t755 دينار\n",
            "\t1,029 دينار\n",
            "\t999 دينار\n",
            "\t669 دينار\n",
            "\t755 دينار\n",
            "\n",
            "\n",
            "\n",
            "\n"
          ]
        }
      ]
    },
    {
      "cell_type": "code",
      "source": [
        "import os\n",
        "\n",
        "# Find all of the <img> tags on the page\n",
        "img_tags = soup.find_all('img')\n",
        "\n",
        "# Base URL for relative image URLs\n",
        "base_url = 'https://smartbuy-me.com'\n",
        "\n",
        "# Loop over each image tag\n",
        "for img in img_tags:\n",
        "    img_url = img.get('src')\n",
        "\n",
        "    # Check if image URL is relative\n",
        "    if img_url.startswith('/'):\n",
        "        img_url = base_url + img_url\n",
        "\n",
        "    # Get the image title\n",
        "    img_title = img.get('title')\n",
        "\n",
        "    # Check if the title is not None\n",
        "    if img_title is not None:\n",
        "        # Download the image\n",
        "        img_response = requests.get(img_url)\n",
        "\n",
        "        # Save the image as a file, using the title as the filename\n",
        "        if img_response.status_code == 200:\n",
        "            with open(os.path.join('images', img_title + '.jpg'), 'wb') as f:\n",
        "                f.write(img_response.content)\n"
      ],
      "metadata": {
        "id": "MNhYg3PpmpH-"
      },
      "execution_count": null,
      "outputs": []
    },
    {
      "cell_type": "code",
      "source": [
        "!zip -r images.zip /content/images\n"
      ],
      "metadata": {
        "id": "APOP8GKdol4c"
      },
      "execution_count": null,
      "outputs": []
    },
    {
      "cell_type": "code",
      "source": [
        "import csv\n",
        "import re\n",
        "# Make a request to the website\n",
        "url = 'https://smartbuy-me.com/smartbuystore/ar/التصنيفات/منتجات-ابل/ايفون/iPhone-13/c/50406'\n",
        "response = requests.get(url)\n",
        "\n",
        "# Parse the HTML content\n",
        "soup = BeautifulSoup(response.content, 'html.parser')\n",
        "\n",
        "# Find all parent elements of the products on the page (replace 'product' with the appropriate class name)\n",
        "product_elements = soup.find_all('div', {'class': 'mainproduct_div itembox'})\n",
        "\n",
        "# Prepare a list to store the product data\n",
        "products = []\n",
        "\n",
        "# Loop over each product element\n",
        "for product in product_elements:\n",
        "    # Get the title from the img tag\n",
        "    title = product.find('img').get('title')\n",
        "\n",
        "    # Get the price from the div with class 'price'\n",
        "    price_div = product.find('div', {'class': 'price'})\n",
        "    price = re.findall(r'[0-9.,]+', price_div.get_text())\n",
        "\n",
        "    if price:\n",
        "            price = price[0]\n",
        "    else:\n",
        "            price = 'No price found'\n",
        "\n",
        "    # Add the title and price to the list of products\n",
        "    products.append([title, price])\n",
        "\n",
        "# Write the product data to a CSV file\n",
        "with open('products.csv', 'w', encoding='utf-8') as f:\n",
        "    writer = csv.writer(f)\n",
        "    writer.writerow(['Title', 'Price'])\n",
        "    writer.writerows(products)\n",
        "\n",
        "\n"
      ],
      "metadata": {
        "id": "gcXDOvFhqhw6"
      },
      "execution_count": null,
      "outputs": []
    }
  ]
}